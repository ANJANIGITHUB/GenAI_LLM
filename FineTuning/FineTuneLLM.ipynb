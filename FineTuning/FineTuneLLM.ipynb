{
  "cells": [
    {
      "cell_type": "code",
      "execution_count": 6,
      "metadata": {
        "id": "jIP6RTtsSA1k"
      },
      "outputs": [],
      "source": [
        "## Fine Tune GPT 3.5 Turbo with custom dataset\n"
      ]
    },
    {
      "cell_type": "code",
      "execution_count": 21,
      "metadata": {
        "id": "R3jixLoGSH38"
      },
      "outputs": [],
      "source": [
        "import pandas as pd\n",
        "import json\n",
        "from sklearn.model_selection import train_test_split"
      ]
    },
    {
      "cell_type": "code",
      "execution_count": 22,
      "metadata": {
        "colab": {
          "base_uri": "https://localhost:8080/",
          "height": 206
        },
        "id": "GUXPEn0FSJ-y",
        "outputId": "fd5762be-7b9d-4691-dc57-ed696de031d8"
      },
      "outputs": [
        {
          "data": {
            "application/vnd.google.colaboratory.intrinsic+json": {
              "summary": "{\n  \"name\": \"df\",\n  \"rows\": 200,\n  \"fields\": [\n    {\n      \"column\": \"Complaint Description\",\n      \"properties\": {\n        \"dtype\": \"string\",\n        \"num_unique_values\": 126,\n        \"samples\": [\n          \"There is a severe shortage of legal parking spaces at Railway Station, forcing people to park on roads.\",\n          \"Heavy congestion is frequently observed at Tech Park due to poor management of traffic flow.\",\n          \"Pedestrian overpasses at Bus Stand are unsafe or unusable, causing people to cross roads directly.\"\n        ],\n        \"semantic_type\": \"\",\n        \"description\": \"\"\n      }\n    },\n    {\n      \"column\": \"Category\",\n      \"properties\": {\n        \"dtype\": \"category\",\n        \"num_unique_values\": 5,\n        \"samples\": [\n          \"Road Infrastructure\",\n          \"Pedestrian Safety\",\n          \"Parking Issues\"\n        ],\n        \"semantic_type\": \"\",\n        \"description\": \"\"\n      }\n    },\n    {\n      \"column\": \"Sub-category\",\n      \"properties\": {\n        \"dtype\": \"category\",\n        \"num_unique_values\": 20,\n        \"samples\": [\n          \"Unscheduled Stops\",\n          \"Improper Lane Markings\",\n          \"No Zebra Crossings\"\n        ],\n        \"semantic_type\": \"\",\n        \"description\": \"\"\n      }\n    }\n  ]\n}",
              "type": "dataframe",
              "variable_name": "df"
            },
            "text/html": [
              "\n",
              "  <div id=\"df-ebd247c1-708c-4668-8e7a-ba8570daf6e7\" class=\"colab-df-container\">\n",
              "    <div>\n",
              "<style scoped>\n",
              "    .dataframe tbody tr th:only-of-type {\n",
              "        vertical-align: middle;\n",
              "    }\n",
              "\n",
              "    .dataframe tbody tr th {\n",
              "        vertical-align: top;\n",
              "    }\n",
              "\n",
              "    .dataframe thead th {\n",
              "        text-align: right;\n",
              "    }\n",
              "</style>\n",
              "<table border=\"1\" class=\"dataframe\">\n",
              "  <thead>\n",
              "    <tr style=\"text-align: right;\">\n",
              "      <th></th>\n",
              "      <th>Complaint Description</th>\n",
              "      <th>Category</th>\n",
              "      <th>Sub-category</th>\n",
              "    </tr>\n",
              "  </thead>\n",
              "  <tbody>\n",
              "    <tr>\n",
              "      <th>0</th>\n",
              "      <td>Buses at Ring Road stop at random places, bloc...</td>\n",
              "      <td>Public Transport</td>\n",
              "      <td>Unscheduled Stops</td>\n",
              "    </tr>\n",
              "    <tr>\n",
              "      <th>1</th>\n",
              "      <td>Buses at Main Market stop at random places, bl...</td>\n",
              "      <td>Public Transport</td>\n",
              "      <td>Unscheduled Stops</td>\n",
              "    </tr>\n",
              "    <tr>\n",
              "      <th>2</th>\n",
              "      <td>Important traffic signs are missing at Ring Ro...</td>\n",
              "      <td>Road Infrastructure</td>\n",
              "      <td>Missing Signage</td>\n",
              "    </tr>\n",
              "    <tr>\n",
              "      <th>3</th>\n",
              "      <td>Important traffic signs are missing at Tech Pa...</td>\n",
              "      <td>Road Infrastructure</td>\n",
              "      <td>Missing Signage</td>\n",
              "    </tr>\n",
              "    <tr>\n",
              "      <th>4</th>\n",
              "      <td>There is a severe shortage of legal parking sp...</td>\n",
              "      <td>Parking Issues</td>\n",
              "      <td>Lack of Parking Spaces</td>\n",
              "    </tr>\n",
              "  </tbody>\n",
              "</table>\n",
              "</div>\n",
              "    <div class=\"colab-df-buttons\">\n",
              "\n",
              "  <div class=\"colab-df-container\">\n",
              "    <button class=\"colab-df-convert\" onclick=\"convertToInteractive('df-ebd247c1-708c-4668-8e7a-ba8570daf6e7')\"\n",
              "            title=\"Convert this dataframe to an interactive table.\"\n",
              "            style=\"display:none;\">\n",
              "\n",
              "  <svg xmlns=\"http://www.w3.org/2000/svg\" height=\"24px\" viewBox=\"0 -960 960 960\">\n",
              "    <path d=\"M120-120v-720h720v720H120Zm60-500h600v-160H180v160Zm220 220h160v-160H400v160Zm0 220h160v-160H400v160ZM180-400h160v-160H180v160Zm440 0h160v-160H620v160ZM180-180h160v-160H180v160Zm440 0h160v-160H620v160Z\"/>\n",
              "  </svg>\n",
              "    </button>\n",
              "\n",
              "  <style>\n",
              "    .colab-df-container {\n",
              "      display:flex;\n",
              "      gap: 12px;\n",
              "    }\n",
              "\n",
              "    .colab-df-convert {\n",
              "      background-color: #E8F0FE;\n",
              "      border: none;\n",
              "      border-radius: 50%;\n",
              "      cursor: pointer;\n",
              "      display: none;\n",
              "      fill: #1967D2;\n",
              "      height: 32px;\n",
              "      padding: 0 0 0 0;\n",
              "      width: 32px;\n",
              "    }\n",
              "\n",
              "    .colab-df-convert:hover {\n",
              "      background-color: #E2EBFA;\n",
              "      box-shadow: 0px 1px 2px rgba(60, 64, 67, 0.3), 0px 1px 3px 1px rgba(60, 64, 67, 0.15);\n",
              "      fill: #174EA6;\n",
              "    }\n",
              "\n",
              "    .colab-df-buttons div {\n",
              "      margin-bottom: 4px;\n",
              "    }\n",
              "\n",
              "    [theme=dark] .colab-df-convert {\n",
              "      background-color: #3B4455;\n",
              "      fill: #D2E3FC;\n",
              "    }\n",
              "\n",
              "    [theme=dark] .colab-df-convert:hover {\n",
              "      background-color: #434B5C;\n",
              "      box-shadow: 0px 1px 3px 1px rgba(0, 0, 0, 0.15);\n",
              "      filter: drop-shadow(0px 1px 2px rgba(0, 0, 0, 0.3));\n",
              "      fill: #FFFFFF;\n",
              "    }\n",
              "  </style>\n",
              "\n",
              "    <script>\n",
              "      const buttonEl =\n",
              "        document.querySelector('#df-ebd247c1-708c-4668-8e7a-ba8570daf6e7 button.colab-df-convert');\n",
              "      buttonEl.style.display =\n",
              "        google.colab.kernel.accessAllowed ? 'block' : 'none';\n",
              "\n",
              "      async function convertToInteractive(key) {\n",
              "        const element = document.querySelector('#df-ebd247c1-708c-4668-8e7a-ba8570daf6e7');\n",
              "        const dataTable =\n",
              "          await google.colab.kernel.invokeFunction('convertToInteractive',\n",
              "                                                    [key], {});\n",
              "        if (!dataTable) return;\n",
              "\n",
              "        const docLinkHtml = 'Like what you see? Visit the ' +\n",
              "          '<a target=\"_blank\" href=https://colab.research.google.com/notebooks/data_table.ipynb>data table notebook</a>'\n",
              "          + ' to learn more about interactive tables.';\n",
              "        element.innerHTML = '';\n",
              "        dataTable['output_type'] = 'display_data';\n",
              "        await google.colab.output.renderOutput(dataTable, element);\n",
              "        const docLink = document.createElement('div');\n",
              "        docLink.innerHTML = docLinkHtml;\n",
              "        element.appendChild(docLink);\n",
              "      }\n",
              "    </script>\n",
              "  </div>\n",
              "\n",
              "\n",
              "    <div id=\"df-17b5c0d2-12a0-491d-a8a6-0f9f09c6d841\">\n",
              "      <button class=\"colab-df-quickchart\" onclick=\"quickchart('df-17b5c0d2-12a0-491d-a8a6-0f9f09c6d841')\"\n",
              "                title=\"Suggest charts\"\n",
              "                style=\"display:none;\">\n",
              "\n",
              "<svg xmlns=\"http://www.w3.org/2000/svg\" height=\"24px\"viewBox=\"0 0 24 24\"\n",
              "     width=\"24px\">\n",
              "    <g>\n",
              "        <path d=\"M19 3H5c-1.1 0-2 .9-2 2v14c0 1.1.9 2 2 2h14c1.1 0 2-.9 2-2V5c0-1.1-.9-2-2-2zM9 17H7v-7h2v7zm4 0h-2V7h2v10zm4 0h-2v-4h2v4z\"/>\n",
              "    </g>\n",
              "</svg>\n",
              "      </button>\n",
              "\n",
              "<style>\n",
              "  .colab-df-quickchart {\n",
              "      --bg-color: #E8F0FE;\n",
              "      --fill-color: #1967D2;\n",
              "      --hover-bg-color: #E2EBFA;\n",
              "      --hover-fill-color: #174EA6;\n",
              "      --disabled-fill-color: #AAA;\n",
              "      --disabled-bg-color: #DDD;\n",
              "  }\n",
              "\n",
              "  [theme=dark] .colab-df-quickchart {\n",
              "      --bg-color: #3B4455;\n",
              "      --fill-color: #D2E3FC;\n",
              "      --hover-bg-color: #434B5C;\n",
              "      --hover-fill-color: #FFFFFF;\n",
              "      --disabled-bg-color: #3B4455;\n",
              "      --disabled-fill-color: #666;\n",
              "  }\n",
              "\n",
              "  .colab-df-quickchart {\n",
              "    background-color: var(--bg-color);\n",
              "    border: none;\n",
              "    border-radius: 50%;\n",
              "    cursor: pointer;\n",
              "    display: none;\n",
              "    fill: var(--fill-color);\n",
              "    height: 32px;\n",
              "    padding: 0;\n",
              "    width: 32px;\n",
              "  }\n",
              "\n",
              "  .colab-df-quickchart:hover {\n",
              "    background-color: var(--hover-bg-color);\n",
              "    box-shadow: 0 1px 2px rgba(60, 64, 67, 0.3), 0 1px 3px 1px rgba(60, 64, 67, 0.15);\n",
              "    fill: var(--button-hover-fill-color);\n",
              "  }\n",
              "\n",
              "  .colab-df-quickchart-complete:disabled,\n",
              "  .colab-df-quickchart-complete:disabled:hover {\n",
              "    background-color: var(--disabled-bg-color);\n",
              "    fill: var(--disabled-fill-color);\n",
              "    box-shadow: none;\n",
              "  }\n",
              "\n",
              "  .colab-df-spinner {\n",
              "    border: 2px solid var(--fill-color);\n",
              "    border-color: transparent;\n",
              "    border-bottom-color: var(--fill-color);\n",
              "    animation:\n",
              "      spin 1s steps(1) infinite;\n",
              "  }\n",
              "\n",
              "  @keyframes spin {\n",
              "    0% {\n",
              "      border-color: transparent;\n",
              "      border-bottom-color: var(--fill-color);\n",
              "      border-left-color: var(--fill-color);\n",
              "    }\n",
              "    20% {\n",
              "      border-color: transparent;\n",
              "      border-left-color: var(--fill-color);\n",
              "      border-top-color: var(--fill-color);\n",
              "    }\n",
              "    30% {\n",
              "      border-color: transparent;\n",
              "      border-left-color: var(--fill-color);\n",
              "      border-top-color: var(--fill-color);\n",
              "      border-right-color: var(--fill-color);\n",
              "    }\n",
              "    40% {\n",
              "      border-color: transparent;\n",
              "      border-right-color: var(--fill-color);\n",
              "      border-top-color: var(--fill-color);\n",
              "    }\n",
              "    60% {\n",
              "      border-color: transparent;\n",
              "      border-right-color: var(--fill-color);\n",
              "    }\n",
              "    80% {\n",
              "      border-color: transparent;\n",
              "      border-right-color: var(--fill-color);\n",
              "      border-bottom-color: var(--fill-color);\n",
              "    }\n",
              "    90% {\n",
              "      border-color: transparent;\n",
              "      border-bottom-color: var(--fill-color);\n",
              "    }\n",
              "  }\n",
              "</style>\n",
              "\n",
              "      <script>\n",
              "        async function quickchart(key) {\n",
              "          const quickchartButtonEl =\n",
              "            document.querySelector('#' + key + ' button');\n",
              "          quickchartButtonEl.disabled = true;  // To prevent multiple clicks.\n",
              "          quickchartButtonEl.classList.add('colab-df-spinner');\n",
              "          try {\n",
              "            const charts = await google.colab.kernel.invokeFunction(\n",
              "                'suggestCharts', [key], {});\n",
              "          } catch (error) {\n",
              "            console.error('Error during call to suggestCharts:', error);\n",
              "          }\n",
              "          quickchartButtonEl.classList.remove('colab-df-spinner');\n",
              "          quickchartButtonEl.classList.add('colab-df-quickchart-complete');\n",
              "        }\n",
              "        (() => {\n",
              "          let quickchartButtonEl =\n",
              "            document.querySelector('#df-17b5c0d2-12a0-491d-a8a6-0f9f09c6d841 button');\n",
              "          quickchartButtonEl.style.display =\n",
              "            google.colab.kernel.accessAllowed ? 'block' : 'none';\n",
              "        })();\n",
              "      </script>\n",
              "    </div>\n",
              "\n",
              "    </div>\n",
              "  </div>\n"
            ],
            "text/plain": [
              "                               Complaint Description             Category  \\\n",
              "0  Buses at Ring Road stop at random places, bloc...     Public Transport   \n",
              "1  Buses at Main Market stop at random places, bl...     Public Transport   \n",
              "2  Important traffic signs are missing at Ring Ro...  Road Infrastructure   \n",
              "3  Important traffic signs are missing at Tech Pa...  Road Infrastructure   \n",
              "4  There is a severe shortage of legal parking sp...       Parking Issues   \n",
              "\n",
              "             Sub-category  \n",
              "0       Unscheduled Stops  \n",
              "1       Unscheduled Stops  \n",
              "2         Missing Signage  \n",
              "3         Missing Signage  \n",
              "4  Lack of Parking Spaces  "
            ]
          },
          "execution_count": 22,
          "metadata": {},
          "output_type": "execute_result"
        }
      ],
      "source": [
        "df=pd.read_excel(\"traffic_complaints.xlsx\")\n",
        "df.head()"
      ]
    },
    {
      "cell_type": "code",
      "execution_count": 9,
      "metadata": {
        "colab": {
          "base_uri": "https://localhost:8080/"
        },
        "id": "6tIjcfWMSWd5",
        "outputId": "8bc93f3f-3689-4bd0-aa92-77f5a45542be"
      },
      "outputs": [
        {
          "data": {
            "text/plain": [
              "(200, 3)"
            ]
          },
          "execution_count": 9,
          "metadata": {},
          "output_type": "execute_result"
        }
      ],
      "source": [
        "df.shape"
      ]
    },
    {
      "cell_type": "code",
      "execution_count": 23,
      "metadata": {
        "id": "InjeWl8BSaP-"
      },
      "outputs": [],
      "source": [
        "#Format DataSet like above message"
      ]
    },
    {
      "cell_type": "code",
      "execution_count": 24,
      "metadata": {
        "id": "-j9R2vsOStOZ"
      },
      "outputs": [],
      "source": [
        "def convert_to_gpt35(data):\n",
        "    converted_data = []\n",
        "    for _, row in data.iterrows():\n",
        "        json_response='{\"Category\":\"'+ row[\"Category\"]+'\",\"Sub-category\":\"'+ row[\"Sub-category\"]+'\"}'\n",
        "        converted_data.append({\n",
        "            \"messages\": [\n",
        "                {\"role\": \"user\", \"content\": row['Complaint Description']},\n",
        "                {\"role\": \"assistant\", \"content\": json_response}\n",
        "            ]\n",
        "        })\n",
        "    return converted_data"
      ]
    },
    {
      "cell_type": "code",
      "execution_count": 25,
      "metadata": {
        "colab": {
          "base_uri": "https://localhost:8080/"
        },
        "id": "Xd8lWFvRSxT7",
        "outputId": "978d1084-b5d4-4bb8-ed5c-f3d471b80c38"
      },
      "outputs": [
        {
          "data": {
            "text/plain": [
              "[{'role': 'user',\n",
              "  'content': 'Buses at Ring Road stop at random places, blocking lanes and causing traffic disruption.'},\n",
              " {'role': 'assistant',\n",
              "  'content': '{\"Category\":\"Public Transport\",\"Sub-category\":\"Unscheduled Stops\"}'}]"
            ]
          },
          "execution_count": 25,
          "metadata": {},
          "output_type": "execute_result"
        }
      ],
      "source": [
        "converted_data = convert_to_gpt35(df)\n",
        "converted_data[0]['messages']"
      ]
    },
    {
      "cell_type": "code",
      "execution_count": 26,
      "metadata": {
        "id": "7Rms0UGhTBsv"
      },
      "outputs": [],
      "source": [
        "# import json\n",
        "# json.loads(converted_data[0]['messages'][1]['content'])"
      ]
    },
    {
      "cell_type": "code",
      "execution_count": 27,
      "metadata": {
        "id": "iDNxXN6nTLPo"
      },
      "outputs": [],
      "source": [
        "#Train & Test split\n",
        "train_data,test_data=train_test_split(converted_data,test_size=0.2,stratify=df[\"Category\"],random_state=42)"
      ]
    },
    {
      "cell_type": "markdown",
      "metadata": {
        "id": "67uxwyShu_0j"
      },
      "source": [
        "# New Section"
      ]
    },
    {
      "cell_type": "code",
      "execution_count": 28,
      "metadata": {
        "id": "lszLJmK3TLuf"
      },
      "outputs": [],
      "source": [
        "#Create JSONL file\n",
        "def write_to_jsonl(data, file_path):\n",
        "    with open(file_path, 'w') as file:\n",
        "        for entry in data:\n",
        "            json.dump(entry, file)\n",
        "            file.write('\\n')\n",
        "\n",
        "train_file_name=\"training.jsonl\"\n",
        "validation_file_name=\"validation.jsonl\"\n",
        "\n",
        "write_to_jsonl(train_data,train_file_name)\n",
        "write_to_jsonl(test_data,validation_file_name)"
      ]
    },
    {
      "cell_type": "code",
      "execution_count": null,
      "metadata": {
        "id": "6PK9YFxaToeZ"
      },
      "outputs": [],
      "source": [
        "from openai import OpenAI\n",
        "\n",
        "OPENAI_API_KEY='your open api key'\n",
        "client = OpenAI(api_key=OPENAI_API_KEY)"
      ]
    },
    {
      "cell_type": "code",
      "execution_count": 30,
      "metadata": {
        "id": "ndz0r_fGT2KY"
      },
      "outputs": [],
      "source": [
        "#Upload training and validation file\n",
        "training_file=client.files.create(file=open(train_file_name,'rb'),purpose='fine-tune')\n",
        "validation_file=client.files.create(file=open(validation_file_name,'rb'),purpose='fine-tune')"
      ]
    },
    {
      "cell_type": "code",
      "execution_count": 31,
      "metadata": {
        "colab": {
          "base_uri": "https://localhost:8080/"
        },
        "id": "bTvBUUeBT7D8",
        "outputId": "9af3ba64-9251-4ea1-c083-574a1d370329"
      },
      "outputs": [
        {
          "name": "stdout",
          "output_type": "stream",
          "text": [
            "Training   Id: file-13gxzfYtJWBh9bAPSe1cpE\n",
            "Validation Id: file-B6V5qqPP62w2ZfyuQK5cze\n"
          ]
        }
      ],
      "source": [
        "print(\"Training   Id:\",training_file.id)\n",
        "print(\"Validation Id:\",validation_file.id)"
      ]
    },
    {
      "cell_type": "code",
      "execution_count": 39,
      "metadata": {
        "colab": {
          "base_uri": "https://localhost:8080/"
        },
        "id": "m6aNbBPjT_WW",
        "outputId": "f07bfed3-87db-470b-8eb8-be62d6cdb89e"
      },
      "outputs": [
        {
          "data": {
            "text/plain": [
              "FineTuningJob(id='ftjob-ZNIsvdx4bBsqGBEnwx2o3LKx', created_at=1751728085, error=Error(code=None, message=None, param=None), fine_tuned_model=None, finished_at=None, hyperparameters=Hyperparameters(batch_size='auto', learning_rate_multiplier='auto', n_epochs='auto'), model='gpt-3.5-turbo-0125', object='fine_tuning.job', organization_id='org-h8OAQgHSlxnHulUbd4UK9zah', result_files=[], seed=1014096164, status='validating_files', trained_tokens=None, training_file='file-13gxzfYtJWBh9bAPSe1cpE', validation_file='file-B6V5qqPP62w2ZfyuQK5cze', estimated_finish=None, integrations=[], metadata=None, method=Method(type='supervised', dpo=None, reinforcement=None, supervised=SupervisedMethod(hyperparameters=SupervisedHyperparameters(batch_size='auto', learning_rate_multiplier='auto', n_epochs='auto'))), user_provided_suffix='finetune-gpt35', usage_metrics=None, shared_with_openai=False, eval_id=None)"
            ]
          },
          "execution_count": 39,
          "metadata": {},
          "output_type": "execute_result"
        }
      ],
      "source": [
        "#Create Fine Tuning Job\n",
        "\n",
        "suffix=\"finetune-gpt35\"\n",
        "\n",
        "response=client.fine_tuning.jobs.create(training_file=training_file.id,\n",
        "                                        validation_file=validation_file.id,\n",
        "                                        model=\"gpt-3.5-turbo\",\n",
        "                                        suffix=suffix,)\n",
        "\n",
        "response"
      ]
    },
    {
      "cell_type": "code",
      "execution_count": 40,
      "metadata": {
        "colab": {
          "base_uri": "https://localhost:8080/"
        },
        "id": "71Ym3QGEUN9m",
        "outputId": "7b623262-c627-488b-d55b-2de227111d0e"
      },
      "outputs": [
        {
          "data": {
            "text/plain": [
              "SyncCursorPage[FineTuningJob](data=[FineTuningJob(id='ftjob-ZNIsvdx4bBsqGBEnwx2o3LKx', created_at=1751728085, error=Error(code=None, message=None, param=None), fine_tuned_model=None, finished_at=None, hyperparameters=Hyperparameters(batch_size='auto', learning_rate_multiplier='auto', n_epochs='auto'), model='gpt-3.5-turbo-0125', object='fine_tuning.job', organization_id='org-h8OAQgHSlxnHulUbd4UK9zah', result_files=[], seed=1014096164, status='validating_files', trained_tokens=None, training_file='file-13gxzfYtJWBh9bAPSe1cpE', validation_file='file-B6V5qqPP62w2ZfyuQK5cze', estimated_finish=None, integrations=[], metadata=None, method=Method(type='supervised', dpo=None, reinforcement=None, supervised=SupervisedMethod(hyperparameters=SupervisedHyperparameters(batch_size='auto', learning_rate_multiplier='auto', n_epochs='auto'))), user_provided_suffix='finetune-gpt35', usage_metrics=None, shared_with_openai=False, eval_id=None), FineTuningJob(id='ftjob-AtrGPvTyZQssPfHGDlyVI6vY', created_at=1751727827, error=Error(code=None, message=None, param=None), fine_tuned_model=None, finished_at=None, hyperparameters=Hyperparameters(batch_size=1, learning_rate_multiplier=2.0, n_epochs=3), model='gpt-3.5-turbo-0125', object='fine_tuning.job', organization_id='org-h8OAQgHSlxnHulUbd4UK9zah', result_files=[], seed=148296650, status='running', trained_tokens=None, training_file='file-13gxzfYtJWBh9bAPSe1cpE', validation_file='file-B6V5qqPP62w2ZfyuQK5cze', estimated_finish=1751728825, integrations=[], metadata=None, method=Method(type='supervised', dpo=None, reinforcement=None, supervised=SupervisedMethod(hyperparameters=SupervisedHyperparameters(batch_size=1, learning_rate_multiplier=2.0, n_epochs=3))), user_provided_suffix='finetune-gpt35', usage_metrics=None, shared_with_openai=False, eval_id=None), FineTuningJob(id='ftjob-1H79ESYKXgv5jrhmKwnXbnBy', created_at=1751727530, error=Error(code=None, message=None, param=None), fine_tuned_model=None, finished_at=None, hyperparameters=Hyperparameters(batch_size=1, learning_rate_multiplier=2.0, n_epochs=3), model='gpt-3.5-turbo-0125', object='fine_tuning.job', organization_id='org-h8OAQgHSlxnHulUbd4UK9zah', result_files=[], seed=1330405209, status='running', trained_tokens=None, training_file='file-83BPYqgK7ntzU2ojsgSBnd', validation_file='file-WfT3L5Tr6cf11bDoHovVuV', estimated_finish=1751728583, integrations=[], metadata=None, method=Method(type='supervised', dpo=None, reinforcement=None, supervised=SupervisedMethod(hyperparameters=SupervisedHyperparameters(batch_size=1, learning_rate_multiplier=2.0, n_epochs=3))), user_provided_suffix='finetune-gpt35', usage_metrics=None, shared_with_openai=False, eval_id=None), FineTuningJob(id='ftjob-J7auss3qAzCI7G7bK2wafTdV', created_at=1751724568, error=Error(code=None, message=None, param=None), fine_tuned_model='ft:gpt-3.5-turbo-0125:personal:finetune-gpt35:Bpy9SGl6', finished_at=1751725648, hyperparameters=Hyperparameters(batch_size=1, learning_rate_multiplier=2.0, n_epochs=3), model='gpt-3.5-turbo-0125', object='fine_tuning.job', organization_id='org-h8OAQgHSlxnHulUbd4UK9zah', result_files=['file-496CrthE13XUAeccEXNU4k'], seed=1331775740, status='succeeded', trained_tokens=20235, training_file='file-88rgpKicmNdDf2nGjdJe1G', validation_file='file-7zVDYEqtF2Mmacz8oHdztG', estimated_finish=None, integrations=[], metadata=None, method=Method(type='supervised', dpo=None, reinforcement=None, supervised=SupervisedMethod(hyperparameters=SupervisedHyperparameters(batch_size=1, learning_rate_multiplier=2.0, n_epochs=3))), user_provided_suffix='finetune-gpt35', usage_metrics=None, shared_with_openai=False, eval_id=None), FineTuningJob(id='ftjob-w57BkOLPGvS86ksFKk0Z7wJA', created_at=1751724435, error=Error(code=None, message=None, param=None), fine_tuned_model='ft:gpt-3.5-turbo-0125:personal:finetune-gpt35:BpyA8MEa', finished_at=1751725690, hyperparameters=Hyperparameters(batch_size=1, learning_rate_multiplier=2.0, n_epochs=3), model='gpt-3.5-turbo-0125', object='fine_tuning.job', organization_id='org-h8OAQgHSlxnHulUbd4UK9zah', result_files=['file-CknDfJawcjwDaHcGp84QTL'], seed=1686166679, status='succeeded', trained_tokens=20235, training_file='file-QVPAeGLFnSwJzWASLxHAJB', validation_file='file-8EH2icnSQNwT3kpQVYwnLw', estimated_finish=None, integrations=[], metadata=None, method=Method(type='supervised', dpo=None, reinforcement=None, supervised=SupervisedMethod(hyperparameters=SupervisedHyperparameters(batch_size=1, learning_rate_multiplier=2.0, n_epochs=3))), user_provided_suffix='finetune-gpt35', usage_metrics=None, shared_with_openai=False, eval_id=None), FineTuningJob(id='ftjob-7YUN7CNlp02ggH0bqO1H7TKC', created_at=1751723014, error=Error(code=None, message=None, param=None), fine_tuned_model='ft:gpt-3.5-turbo-0125:personal:finetune-gpt35:BpxjT95P', finished_at=1751724037, hyperparameters=Hyperparameters(batch_size=1, learning_rate_multiplier=2.0, n_epochs=3), model='gpt-3.5-turbo-0125', object='fine_tuning.job', organization_id='org-h8OAQgHSlxnHulUbd4UK9zah', result_files=['file-2fuWmg7ETwhDLNLdKcG3ap'], seed=1934398865, status='succeeded', trained_tokens=20235, training_file='file-QVPAeGLFnSwJzWASLxHAJB', validation_file='file-8EH2icnSQNwT3kpQVYwnLw', estimated_finish=None, integrations=[], metadata=None, method=Method(type='supervised', dpo=None, reinforcement=None, supervised=SupervisedMethod(hyperparameters=SupervisedHyperparameters(batch_size=1, learning_rate_multiplier=2.0, n_epochs=3))), user_provided_suffix='finetune-gpt35', usage_metrics=None, shared_with_openai=False, eval_id=None), FineTuningJob(id='ftjob-8Uwv4q2REOTs5MCx4ZFt8SYT', created_at=1751722856, error=Error(code=None, message=None, param=None), fine_tuned_model='ft:gpt-3.5-turbo-0125:personal:finetune-gpt35:BpxgzXWy', finished_at=1751723884, hyperparameters=Hyperparameters(batch_size=1, learning_rate_multiplier=2.0, n_epochs=3), model='gpt-3.5-turbo-0125', object='fine_tuning.job', organization_id='org-h8OAQgHSlxnHulUbd4UK9zah', result_files=['file-6UFcfWHgMfAAqViYJsyUU8'], seed=1886098182, status='succeeded', trained_tokens=20235, training_file='file-QC5RsUcAxyK8uTk5iHyYAV', validation_file='file-HNdpL2tzLX6e8H4mqQDWaK', estimated_finish=None, integrations=[], metadata=None, method=Method(type='supervised', dpo=None, reinforcement=None, supervised=SupervisedMethod(hyperparameters=SupervisedHyperparameters(batch_size=1, learning_rate_multiplier=2.0, n_epochs=3))), user_provided_suffix='finetune-gpt35', usage_metrics=None, shared_with_openai=False, eval_id=None), FineTuningJob(id='ftjob-1gsH4xBkQRngHNGKf5tAdEpw', created_at=1751716717, error=Error(code=None, message=None, param=None), fine_tuned_model='ft:gpt-3.5-turbo-0125:personal:ft-gpt35-v1:BpvzO5RS', finished_at=1751717336, hyperparameters=Hyperparameters(batch_size=1, learning_rate_multiplier=2.0, n_epochs=3), model='gpt-3.5-turbo-0125', object='fine_tuning.job', organization_id='org-h8OAQgHSlxnHulUbd4UK9zah', result_files=['file-1wTZbErcWv2EPFTRvUNEJw'], seed=1741533283, status='succeeded', trained_tokens=8250, training_file='file-FUVshWFGV46wC5oy4bDw44', validation_file='file-TtEwVzHKaUEDDiDp9ycKGC', estimated_finish=None, integrations=[], metadata=None, method=Method(type='supervised', dpo=None, reinforcement=None, supervised=SupervisedMethod(hyperparameters=SupervisedHyperparameters(batch_size=1, learning_rate_multiplier=2.0, n_epochs=3))), user_provided_suffix='ft-gpt35-v1', usage_metrics=None, shared_with_openai=False, eval_id=None), FineTuningJob(id='ftjob-D44ysOkcqyqomj7p6fYeiH97', created_at=1751715871, error=Error(code=None, message=None, param=None), fine_tuned_model='ft:gpt-3.5-turbo-0125:personal:ft-gpt35-v1:BpvlkyPa', finished_at=1751716490, hyperparameters=Hyperparameters(batch_size=1, learning_rate_multiplier=2.0, n_epochs=3), model='gpt-3.5-turbo-0125', object='fine_tuning.job', organization_id='org-h8OAQgHSlxnHulUbd4UK9zah', result_files=['file-EgYPNUCE75q9YMLdhiYDhi'], seed=2093897238, status='succeeded', trained_tokens=8250, training_file='file-BSVavERyb5QmN9k3CVK6kD', validation_file='file-2s2hVH2wDuueRpwCZm45f4', estimated_finish=None, integrations=[], metadata=None, method=Method(type='supervised', dpo=None, reinforcement=None, supervised=SupervisedMethod(hyperparameters=SupervisedHyperparameters(batch_size=1, learning_rate_multiplier=2.0, n_epochs=3))), user_provided_suffix='ft-gpt35-v1', usage_metrics=None, shared_with_openai=False, eval_id=None), FineTuningJob(id='ftjob-nAwfPe4cGbcGk2yNm3m5NRkz', created_at=1751714371, error=Error(code=None, message=None, param=None), fine_tuned_model='ft:gpt-3.5-turbo-0125:personal:ft-gpt35-v1:BpvNZLTV', finished_at=1751714991, hyperparameters=Hyperparameters(batch_size=1, learning_rate_multiplier=2.0, n_epochs=3), model='gpt-3.5-turbo-0125', object='fine_tuning.job', organization_id='org-h8OAQgHSlxnHulUbd4UK9zah', result_files=['file-KByfM5ohnh3zprHpr552YS'], seed=279375650, status='succeeded', trained_tokens=8403, training_file='file-PfRTfvZ8ysJom1UXeMpvDY', validation_file='file-W6C8VKcwWhUgHz1NQLxnP2', estimated_finish=None, integrations=[], metadata=None, method=Method(type='supervised', dpo=None, reinforcement=None, supervised=SupervisedMethod(hyperparameters=SupervisedHyperparameters(batch_size=1, learning_rate_multiplier=2.0, n_epochs=3))), user_provided_suffix='ft-gpt35-v1', usage_metrics=None, shared_with_openai=False, eval_id=None)], has_more=False, object='list')"
            ]
          },
          "execution_count": 40,
          "metadata": {},
          "output_type": "execute_result"
        }
      ],
      "source": [
        "#All Finetuning Jobs\n",
        "\n",
        "client.fine_tuning.jobs.list(limit=10)"
      ]
    },
    {
      "cell_type": "code",
      "execution_count": 48,
      "metadata": {
        "colab": {
          "base_uri": "https://localhost:8080/"
        },
        "id": "kqk9svqTUSkO",
        "outputId": "ddaf0a82-2cb6-48a3-d7cb-e350d6dd5f11"
      },
      "outputs": [
        {
          "name": "stdout",
          "output_type": "stream",
          "text": [
            "Job Status : succeeded\n",
            "FineTuningJob(id='ftjob-ZNIsvdx4bBsqGBEnwx2o3LKx', created_at=1751728085, error=Error(code=None, message=None, param=None), fine_tuned_model='ft:gpt-3.5-turbo-0125:personal:finetune-gpt35:Bpz2JuJT', finished_at=1751729049, hyperparameters=Hyperparameters(batch_size=1, learning_rate_multiplier=2.0, n_epochs=3), model='gpt-3.5-turbo-0125', object='fine_tuning.job', organization_id='org-h8OAQgHSlxnHulUbd4UK9zah', result_files=['file-4NJtSy6T2mGoeTxpQi3hXH'], seed=1014096164, status='succeeded', trained_tokens=20235, training_file='file-13gxzfYtJWBh9bAPSe1cpE', validation_file='file-B6V5qqPP62w2ZfyuQK5cze', estimated_finish=None, integrations=[], metadata=None, method=Method(type='supervised', dpo=None, reinforcement=None, supervised=SupervisedMethod(hyperparameters=SupervisedHyperparameters(batch_size=1, learning_rate_multiplier=2.0, n_epochs=3))), user_provided_suffix='finetune-gpt35', usage_metrics=None, shared_with_openai=False, eval_id=None)\n"
          ]
        }
      ],
      "source": [
        "#Retrieve Specific Job\n",
        "\n",
        "response = client.fine_tuning.jobs.retrieve(response.id)\n",
        "print('Job Status :',response.status)\n",
        "print(response)"
      ]
    },
    {
      "cell_type": "code",
      "execution_count": 42,
      "metadata": {
        "colab": {
          "base_uri": "https://localhost:8080/"
        },
        "id": "2IpHiKORFvWQ",
        "outputId": "8f60b080-e892-4f4c-e697-b1cb46723ad7"
      },
      "outputs": [
        {
          "name": "stdout",
          "output_type": "stream",
          "text": [
            "Status: validating_files\n",
            "Timestamp: 2025-07-05 15:08:12.889014\n",
            "Event: Validating training file: file-13gxzfYtJWBh9bAPSe1cpE and validation file: file-B6V5qqPP62w2ZfyuQK5cze\n",
            "Event: Created fine-tuning job: ftjob-ZNIsvdx4bBsqGBEnwx2o3LKx\n",
            "Status: running\n",
            "Timestamp: 2025-07-05 15:08:43.365952\n",
            "Event: Fine-tuning job started\n",
            "Event: Files validated, moving job to queued state\n",
            "Event: Validating training file: file-13gxzfYtJWBh9bAPSe1cpE and validation file: file-B6V5qqPP62w2ZfyuQK5cze\n",
            "Event: Created fine-tuning job: ftjob-ZNIsvdx4bBsqGBEnwx2o3LKx\n",
            "Status: running\n",
            "Timestamp: 2025-07-05 15:09:13.822927\n",
            "Event: Fine-tuning job started\n",
            "Event: Files validated, moving job to queued state\n",
            "Event: Validating training file: file-13gxzfYtJWBh9bAPSe1cpE and validation file: file-B6V5qqPP62w2ZfyuQK5cze\n",
            "Event: Created fine-tuning job: ftjob-ZNIsvdx4bBsqGBEnwx2o3LKx\n",
            "Status: running\n",
            "Timestamp: 2025-07-05 15:09:44.306637\n",
            "Event: Fine-tuning job started\n",
            "Event: Files validated, moving job to queued state\n",
            "Event: Validating training file: file-13gxzfYtJWBh9bAPSe1cpE and validation file: file-B6V5qqPP62w2ZfyuQK5cze\n",
            "Event: Created fine-tuning job: ftjob-ZNIsvdx4bBsqGBEnwx2o3LKx\n",
            "Status: running\n",
            "Timestamp: 2025-07-05 15:10:14.757414\n",
            "Event: Step 4/480: training loss=4.35\n",
            "Event: Step 3/480: training loss=3.29\n",
            "Event: Step 2/480: training loss=4.21\n",
            "Event: Step 1/480: training loss=4.34\n",
            "Event: Fine-tuning job started\n",
            "Status: running\n",
            "Timestamp: 2025-07-05 15:10:45.191141\n",
            "Event: Step 20/480: training loss=1.47, validation loss=1.33\n",
            "Event: Step 19/480: training loss=1.74\n",
            "Event: Step 18/480: training loss=2.13\n",
            "Event: Step 17/480: training loss=2.19\n",
            "Event: Step 16/480: training loss=2.30\n",
            "Status: running\n",
            "Timestamp: 2025-07-05 15:11:15.619142\n",
            "Event: Step 38/480: training loss=0.29\n",
            "Event: Step 37/480: training loss=0.40\n",
            "Event: Step 36/480: training loss=1.06\n",
            "Event: Step 35/480: training loss=0.63\n",
            "Event: Step 34/480: training loss=0.75\n",
            "Status: running\n",
            "Timestamp: 2025-07-05 15:11:46.085595\n",
            "Event: Step 57/480: training loss=0.05\n",
            "Event: Step 56/480: training loss=0.41\n",
            "Event: Step 55/480: training loss=0.07\n",
            "Event: Step 54/480: training loss=0.08\n",
            "Event: Step 53/480: training loss=0.00\n",
            "Status: running\n",
            "Timestamp: 2025-07-05 15:12:16.601920\n",
            "Event: Step 73/480: training loss=0.01\n",
            "Event: Step 72/480: training loss=0.00\n",
            "Event: Step 71/480: training loss=0.04\n",
            "Event: Step 70/480: training loss=0.00, validation loss=0.41\n",
            "Event: Step 69/480: training loss=0.00\n",
            "Status: running\n",
            "Timestamp: 2025-07-05 15:12:47.102953\n",
            "Event: Step 93/480: training loss=0.00\n",
            "Event: Step 92/480: training loss=0.00\n",
            "Event: Step 91/480: training loss=0.00\n",
            "Event: Step 90/480: training loss=0.01, validation loss=0.00\n",
            "Event: Step 89/480: training loss=0.00\n",
            "Status: running\n",
            "Timestamp: 2025-07-05 15:13:17.587669\n",
            "Event: Step 110/480: training loss=0.00, validation loss=0.02\n",
            "Event: Step 109/480: training loss=0.00\n",
            "Event: Step 108/480: training loss=0.00\n",
            "Event: Step 107/480: training loss=0.08\n",
            "Event: Step 106/480: training loss=0.00\n",
            "Status: running\n",
            "Timestamp: 2025-07-05 15:13:48.054944\n",
            "Event: Step 130/480: training loss=0.10, validation loss=0.00\n",
            "Event: Step 129/480: training loss=0.00\n",
            "Event: Step 128/480: training loss=0.00\n",
            "Event: Step 127/480: training loss=0.00\n",
            "Event: Step 126/480: training loss=0.00\n",
            "Status: running\n",
            "Timestamp: 2025-07-05 15:14:18.849201\n",
            "Event: Step 146/480: training loss=0.00\n",
            "Event: Step 145/480: training loss=0.00\n",
            "Event: Step 144/480: training loss=0.01\n",
            "Event: Step 143/480: training loss=0.00\n",
            "Event: Step 142/480: training loss=0.00\n",
            "Status: running\n",
            "Timestamp: 2025-07-05 15:14:49.293120\n",
            "Event: Step 160/480: training loss=0.00, validation loss=0.00, full validation loss=0.00\n",
            "Event: Step 159/480: training loss=0.00\n",
            "Event: Step 158/480: training loss=0.00\n",
            "Event: Step 157/480: training loss=0.00\n",
            "Event: Step 156/480: training loss=0.00\n",
            "Status: running\n",
            "Timestamp: 2025-07-05 15:15:19.784977\n",
            "Event: Step 178/480: training loss=0.00\n",
            "Event: Step 177/480: training loss=0.00\n",
            "Event: Step 176/480: training loss=0.00\n",
            "Event: Step 175/480: training loss=0.00\n",
            "Event: Step 174/480: training loss=0.00\n",
            "Status: running\n",
            "Timestamp: 2025-07-05 15:15:50.214163\n",
            "Event: Step 198/480: training loss=0.00\n",
            "Event: Step 197/480: training loss=0.00\n",
            "Event: Step 196/480: training loss=0.00\n",
            "Event: Step 195/480: training loss=0.00\n",
            "Event: Step 194/480: training loss=0.00\n",
            "Status: running\n",
            "Timestamp: 2025-07-05 15:16:20.713685\n",
            "Event: Step 215/480: training loss=0.00\n",
            "Event: Step 214/480: training loss=0.00\n",
            "Event: Step 213/480: training loss=0.00\n",
            "Event: Step 212/480: training loss=0.00\n",
            "Event: Step 211/480: training loss=0.00\n",
            "Status: running\n",
            "Timestamp: 2025-07-05 15:16:51.193761\n",
            "Event: Step 234/480: training loss=0.00\n",
            "Event: Step 233/480: training loss=0.00\n",
            "Event: Step 232/480: training loss=0.00\n",
            "Event: Step 231/480: training loss=0.00\n",
            "Event: Step 230/480: training loss=0.00, validation loss=0.00\n",
            "Status: running\n",
            "Timestamp: 2025-07-05 15:17:21.667272\n",
            "Event: Step 251/480: training loss=0.00\n",
            "Event: Step 250/480: training loss=0.00, validation loss=0.00\n",
            "Event: Step 249/480: training loss=0.00\n",
            "Event: Step 248/480: training loss=0.00\n",
            "Event: Step 247/480: training loss=0.00\n",
            "Status: running\n",
            "Timestamp: 2025-07-05 15:17:52.187899\n",
            "Event: Step 269/480: training loss=0.00\n",
            "Event: Step 268/480: training loss=0.00\n",
            "Event: Step 267/480: training loss=0.00\n",
            "Event: Step 266/480: training loss=0.00\n",
            "Event: Step 265/480: training loss=0.00\n",
            "Status: running\n",
            "Timestamp: 2025-07-05 15:18:22.661375\n",
            "Event: Step 289/480: training loss=0.00\n",
            "Event: Step 288/480: training loss=0.00\n",
            "Event: Step 287/480: training loss=0.00\n",
            "Event: Step 286/480: training loss=0.00\n",
            "Event: Step 285/480: training loss=0.00\n",
            "Status: running\n",
            "Timestamp: 2025-07-05 15:18:53.141492\n",
            "Event: Step 305/480: training loss=0.00\n",
            "Event: Step 304/480: training loss=0.00\n",
            "Event: Step 303/480: training loss=0.00\n",
            "Event: Step 302/480: training loss=0.00\n",
            "Event: Step 301/480: training loss=0.00\n",
            "Status: running\n",
            "Timestamp: 2025-07-05 15:19:23.637078\n",
            "Event: Step 320/480: training loss=0.00, validation loss=0.00, full validation loss=0.00\n",
            "Event: Step 319/480: training loss=0.00\n",
            "Event: Step 318/480: training loss=0.00\n",
            "Event: Step 317/480: training loss=0.00\n",
            "Event: Step 316/480: training loss=0.00\n",
            "Status: running\n",
            "Timestamp: 2025-07-05 15:19:54.148891\n",
            "Event: Step 340/480: training loss=0.00, validation loss=0.00\n",
            "Event: Step 339/480: training loss=0.00\n",
            "Event: Step 338/480: training loss=0.00\n",
            "Event: Step 337/480: training loss=0.00\n",
            "Event: Step 336/480: training loss=0.00\n",
            "Status: running\n",
            "Timestamp: 2025-07-05 15:20:24.648422\n",
            "Event: Step 357/480: training loss=0.00\n",
            "Event: Step 356/480: training loss=0.00\n",
            "Event: Step 355/480: training loss=0.00\n",
            "Event: Step 354/480: training loss=0.00\n",
            "Event: Step 353/480: training loss=0.00\n",
            "Status: running\n",
            "Timestamp: 2025-07-05 15:20:55.090959\n",
            "Event: Step 373/480: training loss=0.00\n",
            "Event: Step 372/480: training loss=0.00\n",
            "Event: Step 371/480: training loss=0.00\n",
            "Event: Step 370/480: training loss=0.00, validation loss=0.00\n",
            "Event: Step 369/480: training loss=0.00\n",
            "Status: running\n",
            "Timestamp: 2025-07-05 15:21:25.576785\n",
            "Event: Step 393/480: training loss=0.00\n",
            "Event: Step 392/480: training loss=0.00\n",
            "Event: Step 391/480: training loss=0.00\n",
            "Event: Step 390/480: training loss=0.00, validation loss=0.00\n",
            "Event: Step 389/480: training loss=0.00\n",
            "Status: running\n",
            "Timestamp: 2025-07-05 15:21:56.055255\n",
            "Event: Step 410/480: training loss=0.00, validation loss=0.00\n",
            "Event: Step 409/480: training loss=0.00\n",
            "Event: Step 408/480: training loss=0.00\n",
            "Event: Step 407/480: training loss=0.00\n",
            "Event: Step 406/480: training loss=0.00\n",
            "Status: running\n",
            "Timestamp: 2025-07-05 15:22:26.611605\n",
            "Event: Step 430/480: training loss=0.00, validation loss=0.00\n",
            "Event: Step 429/480: training loss=0.00\n",
            "Event: Step 428/480: training loss=0.00\n",
            "Event: Step 427/480: training loss=0.00\n",
            "Event: Step 426/480: training loss=0.00\n",
            "Status: running\n",
            "Timestamp: 2025-07-05 15:22:57.074420\n",
            "Event: Step 447/480: training loss=0.00\n",
            "Event: Step 446/480: training loss=0.00\n",
            "Event: Step 445/480: training loss=0.00\n",
            "Event: Step 444/480: training loss=0.00\n",
            "Event: Step 443/480: training loss=0.00\n",
            "Status: running\n",
            "Timestamp: 2025-07-05 15:23:27.547983\n",
            "Event: Step 464/480: training loss=0.00\n",
            "Event: Step 463/480: training loss=0.00\n",
            "Event: Step 462/480: training loss=0.00\n",
            "Event: Step 461/480: training loss=0.00\n",
            "Event: Step 460/480: training loss=0.00, validation loss=0.00\n",
            "Status: running\n",
            "Timestamp: 2025-07-05 15:23:58.019028\n",
            "Event: Step 480/480: training loss=0.00, validation loss=0.00, full validation loss=0.00\n",
            "Event: Step 479/480: training loss=0.00\n",
            "Event: Step 478/480: training loss=0.00\n",
            "Event: Step 477/480: training loss=0.00\n",
            "Event: Step 476/480: training loss=0.00\n",
            "Status: running\n",
            "Timestamp: 2025-07-05 15:24:28.509664\n",
            "Event: Evaluating model against our usage policies\n",
            "Event: New fine-tuned model created\n",
            "Event: Checkpoint created at step 320\n",
            "Event: Checkpoint created at step 160\n",
            "Event: Step 480/480: training loss=0.00, validation loss=0.00, full validation loss=0.00\n",
            "Status: running\n",
            "Timestamp: 2025-07-05 15:24:59.020247\n",
            "Event: Evaluating model against our usage policies\n",
            "Event: New fine-tuned model created\n",
            "Event: Checkpoint created at step 320\n",
            "Event: Checkpoint created at step 160\n",
            "Event: Step 480/480: training loss=0.00, validation loss=0.00, full validation loss=0.00\n",
            "Status: running\n",
            "Timestamp: 2025-07-05 15:25:29.488650\n",
            "Event: Evaluating model against our usage policies\n",
            "Event: New fine-tuned model created\n",
            "Event: Checkpoint created at step 320\n",
            "Event: Checkpoint created at step 160\n",
            "Event: Step 480/480: training loss=0.00, validation loss=0.00, full validation loss=0.00\n",
            "Status: running\n",
            "Timestamp: 2025-07-05 15:25:59.942983\n",
            "Event: Evaluating model against our usage policies\n",
            "Event: New fine-tuned model created\n",
            "Event: Checkpoint created at step 320\n",
            "Event: Checkpoint created at step 160\n",
            "Event: Step 480/480: training loss=0.00, validation loss=0.00, full validation loss=0.00\n",
            "Status: running\n",
            "Timestamp: 2025-07-05 15:26:30.414696\n",
            "Event: Evaluating model against our usage policies\n",
            "Event: New fine-tuned model created\n",
            "Event: Checkpoint created at step 320\n",
            "Event: Checkpoint created at step 160\n",
            "Event: Step 480/480: training loss=0.00, validation loss=0.00, full validation loss=0.00\n",
            "Status: running\n",
            "Timestamp: 2025-07-05 15:27:00.930163\n",
            "Event: Evaluating model against our usage policies\n",
            "Event: New fine-tuned model created\n",
            "Event: Checkpoint created at step 320\n",
            "Event: Checkpoint created at step 160\n",
            "Event: Step 480/480: training loss=0.00, validation loss=0.00, full validation loss=0.00\n",
            "Status: running\n",
            "Timestamp: 2025-07-05 15:27:31.392954\n",
            "Event: Evaluating model against our usage policies\n",
            "Event: New fine-tuned model created\n",
            "Event: Checkpoint created at step 320\n",
            "Event: Checkpoint created at step 160\n",
            "Event: Step 480/480: training loss=0.00, validation loss=0.00, full validation loss=0.00\n",
            "Status: running\n",
            "Timestamp: 2025-07-05 15:28:01.884808\n",
            "Event: Evaluating model against our usage policies\n",
            "Event: New fine-tuned model created\n",
            "Event: Checkpoint created at step 320\n",
            "Event: Checkpoint created at step 160\n",
            "Event: Step 480/480: training loss=0.00, validation loss=0.00, full validation loss=0.00\n",
            "Status: running\n",
            "Timestamp: 2025-07-05 15:28:33.370514\n",
            "Event: Evaluating model against our usage policies\n",
            "Event: New fine-tuned model created\n",
            "Event: Checkpoint created at step 320\n",
            "Event: Checkpoint created at step 160\n",
            "Event: Step 480/480: training loss=0.00, validation loss=0.00, full validation loss=0.00\n",
            "Status: running\n",
            "Timestamp: 2025-07-05 15:29:03.789479\n",
            "Event: Evaluating model against our usage policies\n",
            "Event: New fine-tuned model created\n",
            "Event: Checkpoint created at step 320\n",
            "Event: Checkpoint created at step 160\n",
            "Event: Step 480/480: training loss=0.00, validation loss=0.00, full validation loss=0.00\n",
            "Status: running\n",
            "Timestamp: 2025-07-05 15:29:34.255981\n",
            "Event: Evaluating model against our usage policies\n",
            "Event: New fine-tuned model created\n",
            "Event: Checkpoint created at step 320\n",
            "Event: Checkpoint created at step 160\n",
            "Event: Step 480/480: training loss=0.00, validation loss=0.00, full validation loss=0.00\n",
            "Status: running\n",
            "Timestamp: 2025-07-05 15:30:04.736273\n",
            "Event: Evaluating model against our usage policies\n",
            "Event: New fine-tuned model created\n",
            "Event: Checkpoint created at step 320\n",
            "Event: Checkpoint created at step 160\n",
            "Event: Step 480/480: training loss=0.00, validation loss=0.00, full validation loss=0.00\n",
            "Status: running\n",
            "Timestamp: 2025-07-05 15:30:35.216244\n",
            "Event: Evaluating model against our usage policies\n",
            "Event: New fine-tuned model created\n",
            "Event: Checkpoint created at step 320\n",
            "Event: Checkpoint created at step 160\n",
            "Event: Step 480/480: training loss=0.00, validation loss=0.00, full validation loss=0.00\n",
            "Status: running\n",
            "Timestamp: 2025-07-05 15:31:05.702667\n",
            "Event: Evaluating model against our usage policies\n",
            "Event: New fine-tuned model created\n",
            "Event: Checkpoint created at step 320\n",
            "Event: Checkpoint created at step 160\n",
            "Event: Step 480/480: training loss=0.00, validation loss=0.00, full validation loss=0.00\n",
            "Status: running\n",
            "Timestamp: 2025-07-05 15:31:36.223943\n",
            "Event: Evaluating model against our usage policies\n",
            "Event: New fine-tuned model created\n",
            "Event: Checkpoint created at step 320\n",
            "Event: Checkpoint created at step 160\n",
            "Event: Step 480/480: training loss=0.00, validation loss=0.00, full validation loss=0.00\n",
            "Status: running\n",
            "Timestamp: 2025-07-05 15:32:06.704109\n",
            "Event: Evaluating model against our usage policies\n",
            "Event: New fine-tuned model created\n",
            "Event: Checkpoint created at step 320\n",
            "Event: Checkpoint created at step 160\n",
            "Event: Step 480/480: training loss=0.00, validation loss=0.00, full validation loss=0.00\n",
            "Status: running\n",
            "Timestamp: 2025-07-05 15:32:37.202461\n",
            "Event: Evaluating model against our usage policies\n",
            "Event: New fine-tuned model created\n",
            "Event: Checkpoint created at step 320\n",
            "Event: Checkpoint created at step 160\n",
            "Event: Step 480/480: training loss=0.00, validation loss=0.00, full validation loss=0.00\n",
            "Status: running\n",
            "Timestamp: 2025-07-05 15:33:07.703723\n",
            "Event: Evaluating model against our usage policies\n",
            "Event: New fine-tuned model created\n",
            "Event: Checkpoint created at step 320\n",
            "Event: Checkpoint created at step 160\n",
            "Event: Step 480/480: training loss=0.00, validation loss=0.00, full validation loss=0.00\n",
            "Status: running\n",
            "Timestamp: 2025-07-05 15:33:38.173463\n",
            "Event: Evaluating model against our usage policies\n",
            "Event: New fine-tuned model created\n",
            "Event: Checkpoint created at step 320\n",
            "Event: Checkpoint created at step 160\n",
            "Event: Step 480/480: training loss=0.00, validation loss=0.00, full validation loss=0.00\n",
            "Status: running\n",
            "Timestamp: 2025-07-05 15:34:08.606728\n",
            "Event: Evaluating model against our usage policies\n",
            "Event: New fine-tuned model created\n",
            "Event: Checkpoint created at step 320\n",
            "Event: Checkpoint created at step 160\n",
            "Event: Step 480/480: training loss=0.00, validation loss=0.00, full validation loss=0.00\n",
            "Status: running\n",
            "Timestamp: 2025-07-05 15:34:39.049437\n",
            "Event: Evaluating model against our usage policies\n",
            "Event: New fine-tuned model created\n",
            "Event: Checkpoint created at step 320\n",
            "Event: Checkpoint created at step 160\n",
            "Event: Step 480/480: training loss=0.00, validation loss=0.00, full validation loss=0.00\n",
            "Status: succeeded\n",
            "Timestamp: 2025-07-05 15:35:09.512404\n",
            "Fine-tuned model ID: ft:gpt-3.5-turbo-0125:personal:finetune-gpt35:Bpz2JuJT\n"
          ]
        }
      ],
      "source": [
        "from time import sleep\n",
        "from datetime import datetime\n",
        "\n",
        "def my_function():\n",
        "    start_time = datetime.now()\n",
        "    print(\"Timestamp:\", start_time)\n",
        "\n",
        "    # # your code logic here\n",
        "\n",
        "    # end_time = datetime.now()\n",
        "    # print(\"End Time:\", end_time)\n",
        "\n",
        "def monitor_job(job_id):\n",
        "    \"\"\"Monitor fine-tuning job progress\"\"\"\n",
        "    while True:\n",
        "        job = client.fine_tuning.jobs.retrieve(job_id)\n",
        "        print(f\"Status: {job.status}\")\n",
        "        my_function()\n",
        "\n",
        "        if job.status in [\"succeeded\", \"failed\"]:\n",
        "            return job\n",
        "\n",
        "        # List latest events\n",
        "        events = client.fine_tuning.jobs.list_events(\n",
        "            fine_tuning_job_id=job_id,\n",
        "            limit=5\n",
        "        )\n",
        "        for event in events.data:\n",
        "            print(f\"Event: {event.message}\")\n",
        "\n",
        "        sleep(30)  # Check every 30 seconds\n",
        "\n",
        "# Monitor the job until completion\n",
        "job = monitor_job(response.id)\n",
        "if job.status == \"succeeded\":\n",
        "    fine_tuned_model = job.fine_tuned_model\n",
        "    print(f\"Fine-tuned model ID: {fine_tuned_model}\")\n",
        "else:\n",
        "    print(\"Fine-tuning failed.\")\n"
      ]
    },
    {
      "cell_type": "code",
      "execution_count": 49,
      "metadata": {
        "colab": {
          "base_uri": "https://localhost:8080/"
        },
        "id": "usaQSNjbUhNn",
        "outputId": "6d7b3141-3bc8-436a-b676-5691b159d9fe"
      },
      "outputs": [
        {
          "name": "stdout",
          "output_type": "stream",
          "text": [
            "\n",
            "Fine-tuned model id: ft:gpt-3.5-turbo-0125:personal:finetune-gpt35:Bpz2JuJT\n"
          ]
        }
      ],
      "source": [
        "\n",
        "fine_tuned_model_id = response.fine_tuned_model\n",
        "print(\"\\nFine-tuned model id:\", fine_tuned_model_id)\n"
      ]
    },
    {
      "cell_type": "code",
      "execution_count": 50,
      "metadata": {
        "id": "_SbY8NngUtWT"
      },
      "outputs": [],
      "source": [
        "#Test Finetuned Model\n",
        "\n",
        "from sklearn.metrics import accuracy_score, precision_score, recall_score, f1_score\n",
        "\n",
        "def format_test(row):\n",
        "\n",
        "    formatted_message = [\n",
        "        {\n",
        "            \"role\": \"user\",\n",
        "            \"content\": row['Complaint Description']\n",
        "        }\n",
        "    ]\n",
        "    return formatted_message\n",
        "\n",
        "\n",
        "def predict(test_messages, fine_tuned_model_id):\n",
        "\n",
        "    response = client.chat.completions.create(\n",
        "        model=fine_tuned_model_id, messages=test_messages, temperature=0, max_tokens=50\n",
        "    )\n",
        "\n",
        "    return response.choices[0].message.content"
      ]
    },
    {
      "cell_type": "code",
      "execution_count": 53,
      "metadata": {
        "id": "pJLrFo4qUwaZ"
      },
      "outputs": [],
      "source": [
        "def store_predictions(test_df, fine_tuned_model_id):\n",
        "    start_time = datetime.now()\n",
        "    print(\"Start Time:\", start_time.strftime(\"%Y-%m-%d %H:%M:%S\"))\n",
        "\n",
        "    print(\"fine_tuned_model_id:\", fine_tuned_model_id)\n",
        "\n",
        "    test_df['Prediction'] = None\n",
        "\n",
        "    for index, row in test_df.iterrows():\n",
        "        test_message = format_test(row)  # Assume this formats the input correctly\n",
        "        prediction_result = predict(test_message, fine_tuned_model_id)  # Your prediction logic\n",
        "        test_df.at[index, 'Prediction'] = prediction_result\n",
        "\n",
        "    end_time = datetime.now()\n",
        "    print(\"End Time:\", end_time.strftime(\"%Y-%m-%d %H:%M:%S\"))\n",
        "\n",
        "    # Save to Excel\n",
        "    test_df.to_excel(\"predictions.xlsx\", index=False)\n",
        "    print(\"Predictions saved to predictions.xlsx\")"
      ]
    },
    {
      "cell_type": "code",
      "execution_count": 54,
      "metadata": {
        "colab": {
          "base_uri": "https://localhost:8080/"
        },
        "id": "vVt7k1WYU0Bv",
        "outputId": "9fef5b82-a2c0-42ed-ee40-0701a598605f"
      },
      "outputs": [
        {
          "name": "stdout",
          "output_type": "stream",
          "text": [
            "Start Time: 2025-07-05 15:38:51\n",
            "fine_tuned_model_id: ft:gpt-3.5-turbo-0125:personal:finetune-gpt35:Bpz2JuJT\n",
            "End Time: 2025-07-05 15:39:02\n",
            "Predictions saved to predictions.xlsx\n"
          ]
        }
      ],
      "source": [
        "test_df = pd.read_excel(\"traffic_complaints_test_data.xlsx\")\n",
        "store_predictions(test_df, fine_tuned_model_id)"
      ]
    }
  ],
  "metadata": {
    "accelerator": "GPU",
    "colab": {
      "gpuType": "T4",
      "provenance": []
    },
    "kernelspec": {
      "display_name": "Python 3",
      "name": "python3"
    },
    "language_info": {
      "name": "python"
    }
  },
  "nbformat": 4,
  "nbformat_minor": 0
}
