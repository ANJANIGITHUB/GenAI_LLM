{
 "cells": [
  {
   "cell_type": "code",
   "execution_count": null,
   "id": "aa5ddce4",
   "metadata": {},
   "outputs": [],
   "source": [
    "!pip install openai"
   ]
  },
  {
   "cell_type": "code",
   "execution_count": 2,
   "id": "3b8292cb",
   "metadata": {},
   "outputs": [],
   "source": [
    "import os\n",
    "import json\n",
    "import csv\n",
    "from openai import OpenAI\n",
    "import os\n",
    "from time import sleep"
   ]
  },
  {
   "cell_type": "code",
   "execution_count": null,
   "id": "f01addcc",
   "metadata": {},
   "outputs": [],
   "source": [
    "OPENAI_API_KEY=\"YourAPIKey\""
   ]
  },
  {
   "cell_type": "code",
   "execution_count": 4,
   "id": "15d24583",
   "metadata": {},
   "outputs": [],
   "source": [
    "def convert_csv_to_json(inputfile,outputfile):\n",
    "    system_message={\"role\":\"system\",\"message\":\"you are a helpful assistant.\"}\n",
    "\n",
    "    with open(inputfile,'r',encoding='utf-8') as inputcsv,\\\n",
    "         open(outputfile,'w',encoding='utf-8') as ouputcsv:\n",
    "        \n",
    "        input_reader=csv.reader(inputcsv)\n",
    "        next(input_reader) # to skip the first header\n",
    "\n",
    "        for row in input_reader:\n",
    "            medical_report=row[0]\n",
    "            output_format =row[1]\n",
    "\n",
    "            # print('medical report:',medical_report)\n",
    "            # print('output format:',output_format)\n",
    "\n",
    "            training_example={\"messages\" :\n",
    "                                [system_message,\n",
    "                                {\"role\":\"user\",    \"message\":medical_report},\n",
    "                                {\"role\":\"assistant\",\"message\":output_format}\n",
    "                                ]\n",
    "\n",
    "                              }\n",
    "            ouputcsv.write(json.dumps(training_example) + '\\n')\n",
    "\n",
    "    "
   ]
  },
  {
   "cell_type": "code",
   "execution_count": 5,
   "id": "9e94d654",
   "metadata": {},
   "outputs": [],
   "source": [
    "convert_csv_to_json('medical_records_50.csv','training_data.jsonl')\n",
    "convert_csv_to_json('validation_medical_records_10.csv','validation_data.jsonl')"
   ]
  },
  {
   "cell_type": "code",
   "execution_count": 6,
   "id": "6a3d58d5",
   "metadata": {},
   "outputs": [],
   "source": [
    "llm=OpenAI(api_key=OPENAI_API_KEY)"
   ]
  },
  {
   "cell_type": "code",
   "execution_count": 7,
   "id": "040c9709",
   "metadata": {},
   "outputs": [],
   "source": [
    "#upload training file\n",
    "def upload_training_file(input_file):\n",
    "\n",
    "    with open(input_file,'rb') as file:\n",
    "        response=llm.files.create(file=file,\n",
    "                                  purpose=\"fine-tune\")\n",
    "        return response.id\n",
    "    \n",
    "\n"
   ]
  },
  {
   "cell_type": "code",
   "execution_count": 8,
   "id": "0db40833",
   "metadata": {},
   "outputs": [
    {
     "name": "stdout",
     "output_type": "stream",
     "text": [
      "Training File Id           : file-CGw5JvKyqt7P9Uc1Wji6uj\n",
      "validation_file_id File Id : file-TKGENenDNSroT8VMYVkBB4\n"
     ]
    }
   ],
   "source": [
    "training_file_id=upload_training_file(\"training_data.jsonl\")\n",
    "validation_file_id=upload_training_file(\"validation_data.jsonl\")\n",
    "print('Training File Id           :',training_file_id)\n",
    "print('validation_file_id File Id :',validation_file_id)"
   ]
  },
  {
   "cell_type": "code",
   "execution_count": 9,
   "id": "dbb6d888",
   "metadata": {},
   "outputs": [],
   "source": [
    "#create fine tuning job\n",
    "def create_fine_tuning_job(model,training_file,validation_file=None):\n",
    "    response=llm.fine_tuning.jobs.create(training_file=training_file,\n",
    "                                         validation_file=validation_file,\n",
    "                                         model=model)\n",
    "    return response.id\n"
   ]
  },
  {
   "cell_type": "code",
   "execution_count": 10,
   "id": "5d733f48",
   "metadata": {},
   "outputs": [
    {
     "name": "stdout",
     "output_type": "stream",
     "text": [
      "Job id : ftjob-M7zQyPRFIY4NOsLAUxcLY3xL\n"
     ]
    }
   ],
   "source": [
    "#Execute Fine Tuning Job id\n",
    "\n",
    "model='gpt-4o-mini-2024-07-18'\n",
    "job_id=create_fine_tuning_job(model,training_file_id,validation_file_id)\n",
    "print('Job id :',job_id)"
   ]
  },
  {
   "cell_type": "code",
   "execution_count": 11,
   "id": "5be9bbeb",
   "metadata": {},
   "outputs": [],
   "source": [
    "#monitor job\n",
    "\n",
    "def monitor_job(job_id):\n",
    "    while True:\n",
    "        job=llm.fine_tuning.jobs.retrieve(job_id)\n",
    "        print(f\"Job Running Status {job.status}\")\n",
    "\n",
    "        if job.status in ['succeeded','failed']:\n",
    "            return job\n",
    "        \n",
    "        # List latest events\n",
    "        events = llm.fine_tuning.jobs.list_events(\n",
    "            fine_tuning_job_id=job_id,\n",
    "            limit=5\n",
    "        )\n",
    "        for event in events.data:\n",
    "            print(f\"Event: {event.message}\")\n",
    "        \n",
    "        sleep(30)\n",
    "\n"
   ]
  },
  {
   "cell_type": "code",
   "execution_count": 12,
   "id": "bdb352bd",
   "metadata": {},
   "outputs": [
    {
     "name": "stdout",
     "output_type": "stream",
     "text": [
      "Job Running Status validating_files\n",
      "Event: Validating training file: file-CGw5JvKyqt7P9Uc1Wji6uj and validation file: file-TKGENenDNSroT8VMYVkBB4\n",
      "Event: Created fine-tuning job: ftjob-M7zQyPRFIY4NOsLAUxcLY3xL\n",
      "Job Running Status running\n",
      "Event: The job failed due to a file format error in the training file. Invalid file format. Example 1, message 1 is missing key \"content\".\n",
      "Event: Validating training file: file-CGw5JvKyqt7P9Uc1Wji6uj and validation file: file-TKGENenDNSroT8VMYVkBB4\n",
      "Event: Created fine-tuning job: ftjob-M7zQyPRFIY4NOsLAUxcLY3xL\n",
      "Job Running Status failed\n",
      "Fine-tuning failed.\n"
     ]
    }
   ],
   "source": [
    "job=monitor_job(job_id)\n",
    "if job.status == \"succeeded\":\n",
    "    fine_tuned_model = job.fine_tuned_model\n",
    "    print(f\"Fine-tuned model ID: {fine_tuned_model}\")\n",
    "else:\n",
    "    print(\"Fine-tuning failed.\")"
   ]
  },
  {
   "cell_type": "code",
   "execution_count": null,
   "id": "79ab4c44",
   "metadata": {},
   "outputs": [],
   "source": [
    "def test_model(model_id, test_input):\n",
    "    \"\"\"Test the fine-tuned model\"\"\"\n",
    "    completion = llm.chat.completions.create(\n",
    "        model=model_id,\n",
    "        messages=[\n",
    "            {\n",
    "                \"role\": \"system\",\n",
    "                \"content\": \"Extract Details from medical report\"\n",
    "            },\n",
    "            {\"role\": \"user\", \"content\": test_input}\n",
    "        ]\n",
    "    )\n",
    "    return completion.choices[0].message\n"
   ]
  },
  {
   "cell_type": "code",
   "execution_count": null,
   "id": "eafa832a",
   "metadata": {},
   "outputs": [],
   "source": [
    "# Test input\n",
    "test_report = \"\"\"Marcus Wong, a 19-year-old male, presents with severe acne \n",
    "on face and upper back present for 1 year. Multiple inflammatory papules \n",
    "and nodules noted on examination. Previous trials of over-the-counter \n",
    "treatments ineffective. Started on Isotretinoin 40mg daily with monthly \n",
    "liver function monitoring.\"\"\"\n",
    "\n",
    "# Get prediction\n",
    "result = test_model(fine_tuned_model, test_report)\n",
    "\n",
    "# Parse the JSON response\n",
    "import json\n",
    "extracted_data = json.loads(result.content)\n",
    "print(json.dumps(extracted_data, indent=2))\n"
   ]
  }
 ],
 "metadata": {
  "kernelspec": {
   "display_name": "Python 3",
   "language": "python",
   "name": "python3"
  },
  "language_info": {
   "codemirror_mode": {
    "name": "ipython",
    "version": 3
   },
   "file_extension": ".py",
   "mimetype": "text/x-python",
   "name": "python",
   "nbconvert_exporter": "python",
   "pygments_lexer": "ipython3",
   "version": "3.12.10"
  }
 },
 "nbformat": 4,
 "nbformat_minor": 5
}
